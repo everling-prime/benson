{
 "cells": [
  {
   "cell_type": "markdown",
   "metadata": {},
   "source": [
    "## Explore MTA Data"
   ]
  },
  {
   "cell_type": "code",
   "execution_count": 1,
   "metadata": {
    "collapsed": true
   },
   "outputs": [],
   "source": [
    "# imports a library 'pandas', names it as 'pd'\n",
    "import pandas as pd\n",
    "import numpy as np\n",
    "import matplotlib.pyplot as plt\n",
    "import random\n",
    "\n",
    "from IPython.display import Image\n",
    "\n",
    "# enables inline plots, without it plots don't show up in the notebook\n",
    "#%matplotlib notebook\n",
    "%matplotlib inline\n",
    "\n",
    "import csv\n",
    "from collections import defaultdict\n",
    "import re"
   ]
  },
  {
   "cell_type": "code",
   "execution_count": 2,
   "metadata": {
    "collapsed": true
   },
   "outputs": [],
   "source": [
    "# various options in pandas\n",
    "pd.set_option('display.max_columns', None)\n",
    "pd.set_option('display.max_rows', 25)\n",
    "pd.set_option('display.precision', 3)"
   ]
  },
  {
   "cell_type": "markdown",
   "metadata": {},
   "source": [
    "### Useful Functions for Data Standardization"
   ]
  },
  {
   "cell_type": "code",
   "execution_count": 3,
   "metadata": {
    "collapsed": true
   },
   "outputs": [],
   "source": [
    "def clean_cols(df):\n",
    "    for col in df.columns:\n",
    "        # Clean the string type data\n",
    "        if df[col].dtype == 'object':\n",
    "            df[col]= df[col].str.strip()\n",
    "    return df\n",
    "\n",
    "def make_standard_names(df):\n",
    "    # Clean up the column names\n",
    "    cols = df.columns\n",
    "    for col in cols:\n",
    "        col_new = col\n",
    "        col_new = col_new.lower()\n",
    "        col_new = col_new.strip()\n",
    "        col_new = col_new.replace('/','')\n",
    "        col_new = col_new.replace(' ','_')\n",
    "        df = df.rename(columns = {col: col_new})\n",
    "    return df"
   ]
  },
  {
   "cell_type": "markdown",
   "metadata": {},
   "source": [
    "### NYC Transit Subway Entrance And Exit Data\n"
   ]
  },
  {
   "cell_type": "code",
   "execution_count": 4,
   "metadata": {
    "collapsed": true
   },
   "outputs": [],
   "source": [
    "# This data file provides a variety of information on subway station entrances and exits which includes but is not limited to: \n",
    "# Division, Line, Station Name, Longitude and Latitude coordinates of entrances/exits.\n",
    "nyc_entr_exit = pd.read_csv(\"https://data.ny.gov/api/views/i9wp-a4ja/rows.csv\")"
   ]
  },
  {
   "cell_type": "code",
   "execution_count": 5,
   "metadata": {
    "collapsed": true
   },
   "outputs": [],
   "source": [
    "#print(nyc_entr_exit.info())"
   ]
  },
  {
   "cell_type": "code",
   "execution_count": 6,
   "metadata": {},
   "outputs": [
    {
     "data": {
      "text/html": [
       "<div>\n",
       "<style>\n",
       "    .dataframe thead tr:only-child th {\n",
       "        text-align: right;\n",
       "    }\n",
       "\n",
       "    .dataframe thead th {\n",
       "        text-align: left;\n",
       "    }\n",
       "\n",
       "    .dataframe tbody tr th {\n",
       "        vertical-align: top;\n",
       "    }\n",
       "</style>\n",
       "<table border=\"1\" class=\"dataframe\">\n",
       "  <thead>\n",
       "    <tr style=\"text-align: right;\">\n",
       "      <th></th>\n",
       "      <th>Division</th>\n",
       "      <th>Line</th>\n",
       "      <th>Station Name</th>\n",
       "      <th>Station Latitude</th>\n",
       "      <th>Station Longitude</th>\n",
       "      <th>Route1</th>\n",
       "      <th>Route2</th>\n",
       "      <th>Route3</th>\n",
       "      <th>Route4</th>\n",
       "      <th>Route5</th>\n",
       "      <th>Route6</th>\n",
       "      <th>Route7</th>\n",
       "      <th>Route8</th>\n",
       "      <th>Route9</th>\n",
       "      <th>Route10</th>\n",
       "      <th>Route11</th>\n",
       "      <th>Entrance Type</th>\n",
       "      <th>Entry</th>\n",
       "      <th>Exit Only</th>\n",
       "      <th>Vending</th>\n",
       "      <th>Staffing</th>\n",
       "      <th>Staff Hours</th>\n",
       "      <th>ADA</th>\n",
       "      <th>ADA Notes</th>\n",
       "      <th>Free Crossover</th>\n",
       "      <th>North South Street</th>\n",
       "      <th>East West Street</th>\n",
       "      <th>Corner</th>\n",
       "      <th>Entrance Latitude</th>\n",
       "      <th>Entrance Longitude</th>\n",
       "      <th>Station Location</th>\n",
       "      <th>Entrance Location</th>\n",
       "    </tr>\n",
       "  </thead>\n",
       "  <tbody>\n",
       "    <tr>\n",
       "      <th>1115</th>\n",
       "      <td>IRT</td>\n",
       "      <td>Flushing</td>\n",
       "      <td>Queensboro Plaza</td>\n",
       "      <td>40.751</td>\n",
       "      <td>-73.940</td>\n",
       "      <td>N</td>\n",
       "      <td>Q</td>\n",
       "      <td>7</td>\n",
       "      <td>NaN</td>\n",
       "      <td>NaN</td>\n",
       "      <td>NaN</td>\n",
       "      <td>NaN</td>\n",
       "      <td>NaN</td>\n",
       "      <td>NaN</td>\n",
       "      <td>NaN</td>\n",
       "      <td>NaN</td>\n",
       "      <td>Easement</td>\n",
       "      <td>YES</td>\n",
       "      <td>NaN</td>\n",
       "      <td>YES</td>\n",
       "      <td>FULL</td>\n",
       "      <td>NaN</td>\n",
       "      <td>False</td>\n",
       "      <td>NaN</td>\n",
       "      <td>True</td>\n",
       "      <td>Queens Plaza North</td>\n",
       "      <td>27th St</td>\n",
       "      <td>NW</td>\n",
       "      <td>40.751</td>\n",
       "      <td>-73.940</td>\n",
       "      <td>(40.750582, -73.940202)</td>\n",
       "      <td>(40.750835, -73.939671)</td>\n",
       "    </tr>\n",
       "    <tr>\n",
       "      <th>398</th>\n",
       "      <td>BMT</td>\n",
       "      <td>Astoria</td>\n",
       "      <td>36 Av-Washington Av</td>\n",
       "      <td>40.757</td>\n",
       "      <td>-73.930</td>\n",
       "      <td>N</td>\n",
       "      <td>Q</td>\n",
       "      <td>NaN</td>\n",
       "      <td>NaN</td>\n",
       "      <td>NaN</td>\n",
       "      <td>NaN</td>\n",
       "      <td>NaN</td>\n",
       "      <td>NaN</td>\n",
       "      <td>NaN</td>\n",
       "      <td>NaN</td>\n",
       "      <td>NaN</td>\n",
       "      <td>Stair</td>\n",
       "      <td>YES</td>\n",
       "      <td>NaN</td>\n",
       "      <td>YES</td>\n",
       "      <td>FULL</td>\n",
       "      <td>NaN</td>\n",
       "      <td>False</td>\n",
       "      <td>NaN</td>\n",
       "      <td>True</td>\n",
       "      <td>31st St</td>\n",
       "      <td>36th Ave</td>\n",
       "      <td>NW</td>\n",
       "      <td>40.757</td>\n",
       "      <td>-73.930</td>\n",
       "      <td>(40.756804, -73.929575)</td>\n",
       "      <td>(40.756796, -73.929740)</td>\n",
       "    </tr>\n",
       "    <tr>\n",
       "      <th>964</th>\n",
       "      <td>IND</td>\n",
       "      <td>Crosstown</td>\n",
       "      <td>Greenpoint Av</td>\n",
       "      <td>40.731</td>\n",
       "      <td>-73.954</td>\n",
       "      <td>G</td>\n",
       "      <td>NaN</td>\n",
       "      <td>NaN</td>\n",
       "      <td>NaN</td>\n",
       "      <td>NaN</td>\n",
       "      <td>NaN</td>\n",
       "      <td>NaN</td>\n",
       "      <td>NaN</td>\n",
       "      <td>NaN</td>\n",
       "      <td>NaN</td>\n",
       "      <td>NaN</td>\n",
       "      <td>Stair</td>\n",
       "      <td>YES</td>\n",
       "      <td>NaN</td>\n",
       "      <td>YES</td>\n",
       "      <td>NONE</td>\n",
       "      <td>NaN</td>\n",
       "      <td>False</td>\n",
       "      <td>NaN</td>\n",
       "      <td>True</td>\n",
       "      <td>Manhattan Ave</td>\n",
       "      <td>India St</td>\n",
       "      <td>SW</td>\n",
       "      <td>40.732</td>\n",
       "      <td>-73.955</td>\n",
       "      <td>(40.731352, -73.954449)</td>\n",
       "      <td>(40.732216, -73.954784)</td>\n",
       "    </tr>\n",
       "    <tr>\n",
       "      <th>1382</th>\n",
       "      <td>IRT</td>\n",
       "      <td>Lexington</td>\n",
       "      <td>Brooklyn Bridge-City Hall</td>\n",
       "      <td>40.712</td>\n",
       "      <td>-74.005</td>\n",
       "      <td>J</td>\n",
       "      <td>Z</td>\n",
       "      <td>4</td>\n",
       "      <td>5</td>\n",
       "      <td>6</td>\n",
       "      <td>NaN</td>\n",
       "      <td>NaN</td>\n",
       "      <td>NaN</td>\n",
       "      <td>NaN</td>\n",
       "      <td>NaN</td>\n",
       "      <td>NaN</td>\n",
       "      <td>Stair</td>\n",
       "      <td>YES</td>\n",
       "      <td>NaN</td>\n",
       "      <td>YES</td>\n",
       "      <td>NONE</td>\n",
       "      <td>NaN</td>\n",
       "      <td>True</td>\n",
       "      <td>J Z not ADA</td>\n",
       "      <td>True</td>\n",
       "      <td>Nassau St</td>\n",
       "      <td>Frankfort St</td>\n",
       "      <td>SE</td>\n",
       "      <td>40.712</td>\n",
       "      <td>-74.005</td>\n",
       "      <td>(40.711857, -74.005114)</td>\n",
       "      <td>(40.711857, -74.005114)</td>\n",
       "    </tr>\n",
       "    <tr>\n",
       "      <th>1330</th>\n",
       "      <td>IRT</td>\n",
       "      <td>Lexington</td>\n",
       "      <td>59th St</td>\n",
       "      <td>40.763</td>\n",
       "      <td>-73.968</td>\n",
       "      <td>N</td>\n",
       "      <td>Q</td>\n",
       "      <td>R</td>\n",
       "      <td>4</td>\n",
       "      <td>5</td>\n",
       "      <td>6</td>\n",
       "      <td>NaN</td>\n",
       "      <td>NaN</td>\n",
       "      <td>NaN</td>\n",
       "      <td>NaN</td>\n",
       "      <td>NaN</td>\n",
       "      <td>Stair</td>\n",
       "      <td>YES</td>\n",
       "      <td>NaN</td>\n",
       "      <td>YES</td>\n",
       "      <td>NONE</td>\n",
       "      <td>NaN</td>\n",
       "      <td>False</td>\n",
       "      <td>NaN</td>\n",
       "      <td>True</td>\n",
       "      <td>Lexington Ave</td>\n",
       "      <td>59th St</td>\n",
       "      <td>NW</td>\n",
       "      <td>40.762</td>\n",
       "      <td>-73.968</td>\n",
       "      <td>(40.762526, -73.967967)</td>\n",
       "      <td>(40.762414, -73.968371)</td>\n",
       "    </tr>\n",
       "  </tbody>\n",
       "</table>\n",
       "</div>"
      ],
      "text/plain": [
       "     Division       Line               Station Name  Station Latitude  \\\n",
       "1115      IRT   Flushing           Queensboro Plaza            40.751   \n",
       "398       BMT    Astoria        36 Av-Washington Av            40.757   \n",
       "964       IND  Crosstown              Greenpoint Av            40.731   \n",
       "1382      IRT  Lexington  Brooklyn Bridge-City Hall            40.712   \n",
       "1330      IRT  Lexington                    59th St            40.763   \n",
       "\n",
       "      Station Longitude Route1 Route2 Route3 Route4 Route5 Route6 Route7  \\\n",
       "1115            -73.940      N      Q      7    NaN    NaN    NaN    NaN   \n",
       "398             -73.930      N      Q    NaN    NaN    NaN    NaN    NaN   \n",
       "964             -73.954      G    NaN    NaN    NaN    NaN    NaN    NaN   \n",
       "1382            -74.005      J      Z      4      5      6    NaN    NaN   \n",
       "1330            -73.968      N      Q      R      4      5      6    NaN   \n",
       "\n",
       "      Route8  Route9  Route10  Route11 Entrance Type Entry Exit Only Vending  \\\n",
       "1115     NaN     NaN      NaN      NaN      Easement   YES       NaN     YES   \n",
       "398      NaN     NaN      NaN      NaN         Stair   YES       NaN     YES   \n",
       "964      NaN     NaN      NaN      NaN         Stair   YES       NaN     YES   \n",
       "1382     NaN     NaN      NaN      NaN         Stair   YES       NaN     YES   \n",
       "1330     NaN     NaN      NaN      NaN         Stair   YES       NaN     YES   \n",
       "\n",
       "     Staffing Staff Hours    ADA    ADA Notes  Free Crossover  \\\n",
       "1115     FULL         NaN  False          NaN            True   \n",
       "398      FULL         NaN  False          NaN            True   \n",
       "964      NONE         NaN  False          NaN            True   \n",
       "1382     NONE         NaN   True  J Z not ADA            True   \n",
       "1330     NONE         NaN  False          NaN            True   \n",
       "\n",
       "      North South Street East West Street Corner  Entrance Latitude  \\\n",
       "1115  Queens Plaza North          27th St     NW             40.751   \n",
       "398              31st St         36th Ave     NW             40.757   \n",
       "964        Manhattan Ave         India St     SW             40.732   \n",
       "1382           Nassau St     Frankfort St     SE             40.712   \n",
       "1330       Lexington Ave          59th St     NW             40.762   \n",
       "\n",
       "      Entrance Longitude         Station Location        Entrance Location  \n",
       "1115             -73.940  (40.750582, -73.940202)  (40.750835, -73.939671)  \n",
       "398              -73.930  (40.756804, -73.929575)  (40.756796, -73.929740)  \n",
       "964              -73.955  (40.731352, -73.954449)  (40.732216, -73.954784)  \n",
       "1382             -74.005  (40.711857, -74.005114)  (40.711857, -74.005114)  \n",
       "1330             -73.968  (40.762526, -73.967967)  (40.762414, -73.968371)  "
      ]
     },
     "execution_count": 6,
     "metadata": {},
     "output_type": "execute_result"
    }
   ],
   "source": [
    "nyc_entr_exit.sample(5)"
   ]
  },
  {
   "cell_type": "markdown",
   "metadata": {},
   "source": [
    "### Turnstile Usage Data 2017\n",
    "\n",
    "Currently openting a single file over a two week period for MTA turnstyle data. To run on local machine, set up paths in the same way, or change the string to appropriate location"
   ]
  },
  {
   "cell_type": "code",
   "execution_count": 7,
   "metadata": {
    "collapsed": true
   },
   "outputs": [],
   "source": [
    "### Turnstile Usage Data: 2017\n",
    "# State of New York — Data file contains information on entry/exit register values for individual control areas.\n",
    "nyc_turnstile_2017 = pd.read_csv('turnstile_data/turnstile_170617.txt')\n",
    "#nyc_turnstile_2017 = pd.read_csv(\"https://data.ny.gov/api/views/v5y5-mwpb/rows.csv\")\n",
    "#nyc_turnstile_2017 = pd.read_csv('turnstile_data/Turnstile_Usage_Data__2017.csv')\n"
   ]
  },
  {
   "cell_type": "markdown",
   "metadata": {},
   "source": [
    "### Clean Data and create useful columns"
   ]
  },
  {
   "cell_type": "code",
   "execution_count": 8,
   "metadata": {},
   "outputs": [],
   "source": [
    "#strip away white space from data and standardize names\n",
    "#some files have names in all caps, and other do not.\n",
    "nyc_turnstile_2017 = clean_cols(nyc_turnstile_2017)\n",
    "nyc_turnstile_2017 = make_standard_names(nyc_turnstile_2017)\n",
    "\n",
    "#Make a column with real timestamps (date and time)\n",
    "nyc_turnstile_2017['readtime'] = nyc_turnstile_2017['date'] + ' ' + nyc_turnstile_2017['time']\n",
    "nyc_turnstile_2017['readtime'] = pd.to_datetime(nyc_turnstile_2017['readtime'], format='%m/%d/%Y %H:%M:%S')\n",
    "\n",
    "# Create a unique \"Meter Name\"\n",
    "# 'ca', 'unit','scp' comprise a unique \"meters\".\n",
    "# There can be several \"meters\" at each station. This these can be recombined using \"Group By\"\n",
    "nyc_turnstile_2017['id'] = nyc_turnstile_2017['ca']+'_'+nyc_turnstile_2017['unit'] \\\n",
    "    +'_'+nyc_turnstile_2017['scp']+'_'+nyc_turnstile_2017['station']\n",
    "nyc_turnstile_2017['entries_diff'] = nyc_turnstile_2017['entries'].diff()\n",
    "nyc_turnstile_2017['exits_diff'] = nyc_turnstile_2017['exits'].diff()\n",
    "\n",
    "\n",
    "# Clean up jump that results in diff when going from one meter to another\n",
    "# To do this, I converted the \"ids\", exits, and entries to lists, and the I\n",
    "# I used a simple \"for loop\".\n",
    "id_list = list(nyc_turnstile_2017['id'])\n",
    "entries_diff_list = list(nyc_turnstile_2017.entries_diff)\n",
    "exits_diff_list = list(nyc_turnstile_2017.exits_diff)\n",
    "\n",
    "for ix, val in enumerate(id_list):\n",
    "    if ix!= 0:\n",
    "        if id_list[ix]!= id_list[ix-1]:\n",
    "            entries_diff_list[ix] = np.nan\n",
    "            exits_diff_list[ix] = np.nan\n",
    "\n",
    "# Do some additional filtering based on a maximum expected value\n",
    "# determined by looking at Time Square data\n",
    "\n",
    "upper_limit = 50000 # somewhat arbitrary\n",
    "for ix, val in enumerate(entries_diff_list):\n",
    "    if val> upper_limit:\n",
    "        entries_diff_list[ix] = np.nan\n",
    "    elif val<0:\n",
    "        entries_diff_list[ix] = np.nan\n",
    "        \n",
    "for ix, val in enumerate(exits_diff_list):\n",
    "    if val> upper_limit:\n",
    "        exits_diff_list[ix] = np.nan\n",
    "    elif val<0:\n",
    "        exits_diff_list[ix] = np.nan\n",
    "entries_diff_df = pd.DataFrame(data = entries_diff_list, index = nyc_turnstile_2017.index)\n",
    "exits_diff_df = pd.DataFrame(data = exits_diff_list, index = nyc_turnstile_2017.index)\n",
    "\n",
    "nyc_turnstile_2017['entries_diff_cleaned'] = entries_diff_df\n",
    "nyc_turnstile_2017['exits_diff_cleaned'] = exits_diff_df"
   ]
  },
  {
   "cell_type": "markdown",
   "metadata": {},
   "source": [
    "Create a Data Frame that is multi-indexed on \"id\" and time-stamp. This might be overkill, and it might be better to not use multi-indexing"
   ]
  },
  {
   "cell_type": "code",
   "execution_count": 9,
   "metadata": {
    "collapsed": true
   },
   "outputs": [],
   "source": [
    "nyc_turnstile_2017_grouped = nyc_turnstile_2017.set_index(['id','readtime'])\n",
    "#nyc_turnstile_2017_grouped"
   ]
  },
  {
   "cell_type": "markdown",
   "metadata": {},
   "source": [
    "### Get a unique list of \"meters\""
   ]
  },
  {
   "cell_type": "code",
   "execution_count": 10,
   "metadata": {
    "collapsed": true
   },
   "outputs": [],
   "source": [
    "ids = nyc_turnstile_2017['id'].unique()"
   ]
  },
  {
   "cell_type": "markdown",
   "metadata": {},
   "source": [
    "### Pick a random \"meter\" and plot the results"
   ]
  },
  {
   "cell_type": "code",
   "execution_count": 11,
   "metadata": {},
   "outputs": [
    {
     "data": {
      "text/plain": [
       "<matplotlib.text.Text at 0x112787668>"
      ]
     },
     "execution_count": 11,
     "metadata": {},
     "output_type": "execute_result"
    },
    {
     "data": {
      "image/png": "[encoded data removed]",
      "text/plain": [
       "<matplotlib.figure.Figure at 0x11015c518>"
      ]
     },
     "metadata": {},
     "output_type": "display_data"
    }
   ],
   "source": [
    "test_turn = random.randint(0,len(ids))\n",
    "\n",
    "test_id_df = nyc_turnstile_2017[nyc_turnstile_2017['id'] == ids[test_turn]]\n",
    "\n",
    "fig, ax = plt.subplots(figsize=(10, 4))\n",
    "plt.plot(test_id_df['readtime'],test_id_df.entries_diff_cleaned)\n",
    "plt.plot(test_id_df['readtime'],test_id_df.exits_diff_cleaned)\n",
    "#plt.set_xlabel('Date Time')\n",
    "#plt.set_ylabel('Exits')\n",
    "plt.legend(['Entries','Exits'])\n",
    "plt.xlabel('Date and Time')\n",
    "plt.ylabel('Count')\n",
    "plt.title(ids[test_turn])"
   ]
  },
  {
   "cell_type": "markdown",
   "metadata": {},
   "source": [
    "### Look at Entries and Exits at one particular station: Times Square"
   ]
  },
  {
   "cell_type": "code",
   "execution_count": 12,
   "metadata": {},
   "outputs": [],
   "source": [
    "station_series = pd.Series(nyc_turnstile_2017['station'].unique())"
   ]
  },
  {
   "cell_type": "code",
   "execution_count": 13,
   "metadata": {},
   "outputs": [
    {
     "data": {
      "text/plain": [
       "4       TIMES SQ-42 ST\n",
       "131    42 ST-PORT AUTH\n",
       "210    42 ST-BRYANT PK\n",
       "277    GRD CNTRL-42 ST\n",
       "dtype: object"
      ]
     },
     "execution_count": 13,
     "metadata": {},
     "output_type": "execute_result"
    }
   ],
   "source": [
    "# lets get a list of 42nd street stations\n",
    "station_series[station_series.str.contains('42')]"
   ]
  },
  {
   "cell_type": "code",
   "execution_count": 14,
   "metadata": {},
   "outputs": [],
   "source": [
    "test_df= nyc_turnstile_2017[nyc_turnstile_2017['station'] == 'TIMES SQ-42 ST']\n",
    "test_df = test_df.groupby('readtime').sum()"
   ]
  },
  {
   "cell_type": "code",
   "execution_count": 15,
   "metadata": {},
   "outputs": [
    {
     "data": {
      "text/plain": [
       "<matplotlib.text.Text at 0x1128d1e10>"
      ]
     },
     "execution_count": 15,
     "metadata": {},
     "output_type": "execute_result"
    },
    {
     "data": {
      "image/png": "[encoded data removed]",
      "text/plain": [
       "<matplotlib.figure.Figure at 0x11288f9b0>"
      ]
     },
     "metadata": {},
     "output_type": "display_data"
    }
   ],
   "source": [
    "fig, ax = plt.subplots(figsize=(10, 4))\n",
    "plt.plot(test_df.index,test_df.entries_diff_cleaned)\n",
    "plt.plot(test_df.index,test_df.exits_diff_cleaned)\n",
    "#plt.set_xlabel('Date Time')\n",
    "#plt.set_ylabel('Exits')\n",
    "plt.title('Times Square')\n",
    "plt.legend(['Entries','Exits'])\n",
    "plt.xlabel('Date and Time')\n",
    "plt.ylabel('Count')"
   ]
  },
  {
   "cell_type": "markdown",
   "metadata": {},
   "source": [
    "This map is usful. Given that time square is one of the busiest stations, this gives us an upper limit for filtering \"bad\" values. Based on this plot, it is reasonable to expect that  exit and entry counts for an __individual turnstile__ over 50 should be excluded"
   ]
  },
  {
   "cell_type": "markdown",
   "metadata": {},
   "source": [
    "### Histogram of station usuage over one week period"
   ]
  },
  {
   "cell_type": "code",
   "execution_count": 24,
   "metadata": {},
   "outputs": [
    {
     "data": {
      "text/html": [
       "<div>\n",
       "<style>\n",
       "    .dataframe thead tr:only-child th {\n",
       "        text-align: right;\n",
       "    }\n",
       "\n",
       "    .dataframe thead th {\n",
       "        text-align: left;\n",
       "    }\n",
       "\n",
       "    .dataframe tbody tr th {\n",
       "        vertical-align: top;\n",
       "    }\n",
       "</style>\n",
       "<table border=\"1\" class=\"dataframe\">\n",
       "  <thead>\n",
       "    <tr style=\"text-align: right;\">\n",
       "      <th></th>\n",
       "      <th>entries</th>\n",
       "      <th>exits</th>\n",
       "      <th>entries_diff</th>\n",
       "      <th>exits_diff</th>\n",
       "      <th>entries_diff_cleaned</th>\n",
       "      <th>exits_diff_cleaned</th>\n",
       "    </tr>\n",
       "    <tr>\n",
       "      <th>station</th>\n",
       "      <th></th>\n",
       "      <th></th>\n",
       "      <th></th>\n",
       "      <th></th>\n",
       "      <th></th>\n",
       "      <th></th>\n",
       "    </tr>\n",
       "  </thead>\n",
       "  <tbody>\n",
       "    <tr>\n",
       "      <th>34 ST-PENN STA</th>\n",
       "      <td>118411121578</td>\n",
       "      <td>67111040366</td>\n",
       "      <td>6.979e+07</td>\n",
       "      <td>-1.160e+08</td>\n",
       "      <td>1.028e+06</td>\n",
       "      <td>873993.0</td>\n",
       "    </tr>\n",
       "    <tr>\n",
       "      <th>GRD CNTRL-42 ST</th>\n",
       "      <td>138322739221</td>\n",
       "      <td>112150402331</td>\n",
       "      <td>-1.180e+08</td>\n",
       "      <td>-7.176e+05</td>\n",
       "      <td>8.724e+05</td>\n",
       "      <td>798127.0</td>\n",
       "    </tr>\n",
       "    <tr>\n",
       "      <th>34 ST-HERALD SQ</th>\n",
       "      <td>229452619240</td>\n",
       "      <td>286865195416</td>\n",
       "      <td>7.927e+07</td>\n",
       "      <td>-4.691e+06</td>\n",
       "      <td>7.157e+05</td>\n",
       "      <td>696225.0</td>\n",
       "    </tr>\n",
       "    <tr>\n",
       "      <th>23 ST</th>\n",
       "      <td>280364306297</td>\n",
       "      <td>312720280779</td>\n",
       "      <td>-1.929e+08</td>\n",
       "      <td>-7.215e+08</td>\n",
       "      <td>6.842e+05</td>\n",
       "      <td>513156.0</td>\n",
       "    </tr>\n",
       "    <tr>\n",
       "      <th>14 ST-UNION SQ</th>\n",
       "      <td>46934618524</td>\n",
       "      <td>13167887414</td>\n",
       "      <td>2.207e+07</td>\n",
       "      <td>-6.383e+06</td>\n",
       "      <td>6.665e+05</td>\n",
       "      <td>574303.0</td>\n",
       "    </tr>\n",
       "    <tr>\n",
       "      <th>TIMES SQ-42 ST</th>\n",
       "      <td>248249302084</td>\n",
       "      <td>193002230465</td>\n",
       "      <td>-6.017e+07</td>\n",
       "      <td>-4.638e+07</td>\n",
       "      <td>6.309e+05</td>\n",
       "      <td>595800.0</td>\n",
       "    </tr>\n",
       "    <tr>\n",
       "      <th>42 ST-PORT AUTH</th>\n",
       "      <td>351480800151</td>\n",
       "      <td>289729989692</td>\n",
       "      <td>-3.004e+06</td>\n",
       "      <td>-4.666e+06</td>\n",
       "      <td>5.606e+05</td>\n",
       "      <td>461652.0</td>\n",
       "    </tr>\n",
       "    <tr>\n",
       "      <th>FULTON ST</th>\n",
       "      <td>173138342860</td>\n",
       "      <td>178545364429</td>\n",
       "      <td>2.135e+07</td>\n",
       "      <td>-1.999e+06</td>\n",
       "      <td>5.595e+05</td>\n",
       "      <td>458344.0</td>\n",
       "    </tr>\n",
       "    <tr>\n",
       "      <th>86 ST</th>\n",
       "      <td>102018825780</td>\n",
       "      <td>105862376244</td>\n",
       "      <td>1.188e+08</td>\n",
       "      <td>4.346e+07</td>\n",
       "      <td>5.550e+05</td>\n",
       "      <td>456619.0</td>\n",
       "    </tr>\n",
       "    <tr>\n",
       "      <th>125 ST</th>\n",
       "      <td>284655484824</td>\n",
       "      <td>163343743843</td>\n",
       "      <td>1.919e+09</td>\n",
       "      <td>1.493e+09</td>\n",
       "      <td>4.626e+05</td>\n",
       "      <td>384701.0</td>\n",
       "    </tr>\n",
       "    <tr>\n",
       "      <th>59 ST</th>\n",
       "      <td>169617565816</td>\n",
       "      <td>99943577243</td>\n",
       "      <td>1.233e+06</td>\n",
       "      <td>-9.539e+06</td>\n",
       "      <td>4.559e+05</td>\n",
       "      <td>346154.0</td>\n",
       "    </tr>\n",
       "    <tr>\n",
       "      <th>CANAL ST</th>\n",
       "      <td>254380519710</td>\n",
       "      <td>253686044425</td>\n",
       "      <td>2.147e+08</td>\n",
       "      <td>2.031e+09</td>\n",
       "      <td>4.475e+05</td>\n",
       "      <td>363571.0</td>\n",
       "    </tr>\n",
       "    <tr>\n",
       "      <th>...</th>\n",
       "      <td>...</td>\n",
       "      <td>...</td>\n",
       "      <td>...</td>\n",
       "      <td>...</td>\n",
       "      <td>...</td>\n",
       "      <td>...</td>\n",
       "    </tr>\n",
       "    <tr>\n",
       "      <th>BEACH 36 ST</th>\n",
       "      <td>183723236</td>\n",
       "      <td>182208871</td>\n",
       "      <td>1.355e+06</td>\n",
       "      <td>1.845e+06</td>\n",
       "      <td>6.474e+03</td>\n",
       "      <td>7076.0</td>\n",
       "    </tr>\n",
       "    <tr>\n",
       "      <th>AQUEDUCT N.COND</th>\n",
       "      <td>212438950</td>\n",
       "      <td>264963299</td>\n",
       "      <td>-1.040e+06</td>\n",
       "      <td>7.273e+05</td>\n",
       "      <td>6.379e+03</td>\n",
       "      <td>11945.0</td>\n",
       "    </tr>\n",
       "    <tr>\n",
       "      <th>E 143/ST MARY'S</th>\n",
       "      <td>211537924</td>\n",
       "      <td>235641899</td>\n",
       "      <td>-4.742e+05</td>\n",
       "      <td>-5.507e+05</td>\n",
       "      <td>5.778e+03</td>\n",
       "      <td>6747.0</td>\n",
       "    </tr>\n",
       "    <tr>\n",
       "      <th>121 ST</th>\n",
       "      <td>342679611</td>\n",
       "      <td>271293506</td>\n",
       "      <td>-4.592e+06</td>\n",
       "      <td>-3.790e+06</td>\n",
       "      <td>5.337e+03</td>\n",
       "      <td>1047.0</td>\n",
       "    </tr>\n",
       "    <tr>\n",
       "      <th>TOMPKINSVILLE</th>\n",
       "      <td>375095461</td>\n",
       "      <td>99361232</td>\n",
       "      <td>-4.140e+02</td>\n",
       "      <td>0.000e+00</td>\n",
       "      <td>5.149e+03</td>\n",
       "      <td>0.0</td>\n",
       "    </tr>\n",
       "    <tr>\n",
       "      <th>AVENUE I</th>\n",
       "      <td>379346126</td>\n",
       "      <td>43225770457</td>\n",
       "      <td>-1.674e+09</td>\n",
       "      <td>-8.059e+08</td>\n",
       "      <td>4.769e+03</td>\n",
       "      <td>8758.0</td>\n",
       "    </tr>\n",
       "    <tr>\n",
       "      <th>BEACH 44 ST</th>\n",
       "      <td>115853084</td>\n",
       "      <td>147409973</td>\n",
       "      <td>0.000e+00</td>\n",
       "      <td>1.220e+02</td>\n",
       "      <td>4.555e+03</td>\n",
       "      <td>4961.0</td>\n",
       "    </tr>\n",
       "    <tr>\n",
       "      <th>BEACH 105 ST</th>\n",
       "      <td>4985330400</td>\n",
       "      <td>72822619</td>\n",
       "      <td>1.174e+08</td>\n",
       "      <td>-4.700e+01</td>\n",
       "      <td>3.960e+03</td>\n",
       "      <td>3399.0</td>\n",
       "    </tr>\n",
       "    <tr>\n",
       "      <th>BROAD CHANNEL</th>\n",
       "      <td>51558123</td>\n",
       "      <td>6815136</td>\n",
       "      <td>-3.201e+05</td>\n",
       "      <td>-5.257e+05</td>\n",
       "      <td>2.027e+03</td>\n",
       "      <td>716.0</td>\n",
       "    </tr>\n",
       "    <tr>\n",
       "      <th>ORCHARD BEACH</th>\n",
       "      <td>20274888</td>\n",
       "      <td>1161231</td>\n",
       "      <td>-2.107e+05</td>\n",
       "      <td>-6.231e+04</td>\n",
       "      <td>9.200e+01</td>\n",
       "      <td>137.0</td>\n",
       "    </tr>\n",
       "    <tr>\n",
       "      <th>SUTTER AV-RUTLD</th>\n",
       "      <td>399979356</td>\n",
       "      <td>228787269</td>\n",
       "      <td>8.343e+06</td>\n",
       "      <td>8.342e+06</td>\n",
       "      <td>6.000e+00</td>\n",
       "      <td>542.0</td>\n",
       "    </tr>\n",
       "    <tr>\n",
       "      <th>JUNIUS ST</th>\n",
       "      <td>174185644</td>\n",
       "      <td>109427230</td>\n",
       "      <td>-2.570e+05</td>\n",
       "      <td>-4.942e+05</td>\n",
       "      <td>0.000e+00</td>\n",
       "      <td>138.0</td>\n",
       "    </tr>\n",
       "  </tbody>\n",
       "</table>\n",
       "<p>376 rows × 6 columns</p>\n",
       "</div>"
      ],
      "text/plain": [
       "                      entries         exits  entries_diff  exits_diff  \\\n",
       "station                                                                 \n",
       "34 ST-PENN STA   118411121578   67111040366     6.979e+07  -1.160e+08   \n",
       "GRD CNTRL-42 ST  138322739221  112150402331    -1.180e+08  -7.176e+05   \n",
       "34 ST-HERALD SQ  229452619240  286865195416     7.927e+07  -4.691e+06   \n",
       "23 ST            280364306297  312720280779    -1.929e+08  -7.215e+08   \n",
       "14 ST-UNION SQ    46934618524   13167887414     2.207e+07  -6.383e+06   \n",
       "TIMES SQ-42 ST   248249302084  193002230465    -6.017e+07  -4.638e+07   \n",
       "42 ST-PORT AUTH  351480800151  289729989692    -3.004e+06  -4.666e+06   \n",
       "FULTON ST        173138342860  178545364429     2.135e+07  -1.999e+06   \n",
       "86 ST            102018825780  105862376244     1.188e+08   4.346e+07   \n",
       "125 ST           284655484824  163343743843     1.919e+09   1.493e+09   \n",
       "59 ST            169617565816   99943577243     1.233e+06  -9.539e+06   \n",
       "CANAL ST         254380519710  253686044425     2.147e+08   2.031e+09   \n",
       "...                       ...           ...           ...         ...   \n",
       "BEACH 36 ST         183723236     182208871     1.355e+06   1.845e+06   \n",
       "AQUEDUCT N.COND     212438950     264963299    -1.040e+06   7.273e+05   \n",
       "E 143/ST MARY'S     211537924     235641899    -4.742e+05  -5.507e+05   \n",
       "121 ST              342679611     271293506    -4.592e+06  -3.790e+06   \n",
       "TOMPKINSVILLE       375095461      99361232    -4.140e+02   0.000e+00   \n",
       "AVENUE I            379346126   43225770457    -1.674e+09  -8.059e+08   \n",
       "BEACH 44 ST         115853084     147409973     0.000e+00   1.220e+02   \n",
       "BEACH 105 ST       4985330400      72822619     1.174e+08  -4.700e+01   \n",
       "BROAD CHANNEL        51558123       6815136    -3.201e+05  -5.257e+05   \n",
       "ORCHARD BEACH        20274888       1161231    -2.107e+05  -6.231e+04   \n",
       "SUTTER AV-RUTLD     399979356     228787269     8.343e+06   8.342e+06   \n",
       "JUNIUS ST           174185644     109427230    -2.570e+05  -4.942e+05   \n",
       "\n",
       "                 entries_diff_cleaned  exits_diff_cleaned  \n",
       "station                                                    \n",
       "34 ST-PENN STA              1.028e+06            873993.0  \n",
       "GRD CNTRL-42 ST             8.724e+05            798127.0  \n",
       "34 ST-HERALD SQ             7.157e+05            696225.0  \n",
       "23 ST                       6.842e+05            513156.0  \n",
       "14 ST-UNION SQ              6.665e+05            574303.0  \n",
       "TIMES SQ-42 ST              6.309e+05            595800.0  \n",
       "42 ST-PORT AUTH             5.606e+05            461652.0  \n",
       "FULTON ST                   5.595e+05            458344.0  \n",
       "86 ST                       5.550e+05            456619.0  \n",
       "125 ST                      4.626e+05            384701.0  \n",
       "59 ST                       4.559e+05            346154.0  \n",
       "CANAL ST                    4.475e+05            363571.0  \n",
       "...                               ...                 ...  \n",
       "BEACH 36 ST                 6.474e+03              7076.0  \n",
       "AQUEDUCT N.COND             6.379e+03             11945.0  \n",
       "E 143/ST MARY'S             5.778e+03              6747.0  \n",
       "121 ST                      5.337e+03              1047.0  \n",
       "TOMPKINSVILLE               5.149e+03                 0.0  \n",
       "AVENUE I                    4.769e+03              8758.0  \n",
       "BEACH 44 ST                 4.555e+03              4961.0  \n",
       "BEACH 105 ST                3.960e+03              3399.0  \n",
       "BROAD CHANNEL               2.027e+03               716.0  \n",
       "ORCHARD BEACH               9.200e+01               137.0  \n",
       "SUTTER AV-RUTLD             6.000e+00               542.0  \n",
       "JUNIUS ST                   0.000e+00               138.0  \n",
       "\n",
       "[376 rows x 6 columns]"
      ]
     },
     "execution_count": 24,
     "metadata": {},
     "output_type": "execute_result"
    }
   ],
   "source": [
    "summed_df = nyc_turnstile_2017.groupby('station').sum()\n",
    "summed_df.sort_values(['entries_diff_cleaned'],ascending=False)"
   ]
  },
  {
   "cell_type": "code",
   "execution_count": null,
   "metadata": {},
   "outputs": [],
   "source": []
  },
  {
   "cell_type": "markdown",
   "metadata": {},
   "source": [
    "### Random Stuff"
   ]
  },
  {
   "cell_type": "code",
   "execution_count": 17,
   "metadata": {},
   "outputs": [
    {
     "data": {
      "text/plain": [
       "230"
      ]
     },
     "execution_count": 17,
     "metadata": {},
     "output_type": "execute_result"
    }
   ],
   "source": [
    "scp_df = nyc_turnstile_2017['scp'].drop_duplicates()\n",
    "len(scp_df)"
   ]
  },
  {
   "cell_type": "code",
   "execution_count": 18,
   "metadata": {},
   "outputs": [
    {
     "data": {
      "text/plain": [
       "4149"
      ]
     },
     "execution_count": 18,
     "metadata": {},
     "output_type": "execute_result"
    }
   ],
   "source": [
    "scp_station_df = nyc_turnstile_2017[['scp','station']]\n",
    "scp_station_df = scp_station_df.drop_duplicates()\n",
    "len(scp_station_df)\n"
   ]
  },
  {
   "cell_type": "code",
   "execution_count": 19,
   "metadata": {},
   "outputs": [
    {
     "data": {
      "text/plain": [
       "4695"
      ]
     },
     "execution_count": 19,
     "metadata": {},
     "output_type": "execute_result"
    }
   ],
   "source": [
    "#Make hierarchical index\n",
    "three_col = nyc_turnstile_2017[['ca','unit','scp']].drop_duplicates()\n",
    "len(three_col)"
   ]
  },
  {
   "cell_type": "code",
   "execution_count": 20,
   "metadata": {},
   "outputs": [
    {
     "data": {
      "text/plain": [
       "\"\\nnyc_turnstile_2017['entries_diff'] = nyc_turnstile_2017['entries'].diff()\\nnyc_turnstile_2017['exits_diff'] = nyc_turnstile_2017['exits'].diff()\\n\\nnyc_turnstile_2017[nyc_turnstile_2017['entries_diff'] < 0] = np.nan\\nnyc_turnstile_2017[nyc_turnstile_2017['exits_diff'] < 0] = np.nan\\nnyc_turnstile_2017[nyc_turnstile_2017['entries_diff'] > 10**5] = np.nan\\nnyc_turnstile_2017[nyc_turnstile_2017['exits_diff'] > 10**5] = np.nan\\n\""
      ]
     },
     "execution_count": 20,
     "metadata": {},
     "output_type": "execute_result"
    }
   ],
   "source": [
    "# Calculate entries and exists per period\n",
    "\"\"\"\n",
    "nyc_turnstile_2017['entries_diff'] = nyc_turnstile_2017['entries'].diff()\n",
    "nyc_turnstile_2017['exits_diff'] = nyc_turnstile_2017['exits'].diff()\n",
    "\n",
    "nyc_turnstile_2017[nyc_turnstile_2017['entries_diff'] < 0] = np.nan\n",
    "nyc_turnstile_2017[nyc_turnstile_2017['exits_diff'] < 0] = np.nan\n",
    "nyc_turnstile_2017[nyc_turnstile_2017['entries_diff'] > 10**5] = np.nan\n",
    "nyc_turnstile_2017[nyc_turnstile_2017['exits_diff'] > 10**5] = np.nan\n",
    "\"\"\""
   ]
  },
  {
   "cell_type": "code",
   "execution_count": 21,
   "metadata": {},
   "outputs": [
    {
     "data": {
      "text/plain": [
       "array(['59 ST', '5 AV/59 ST', '57 ST-7 AV', '49 ST', 'TIMES SQ-42 ST',\n",
       "       '34 ST-HERALD SQ', '28 ST', '23 ST', '14 ST-UNION SQ', '8 ST-NYU',\n",
       "       'PRINCE ST', 'CANAL ST', 'CITY HALL', 'CORTLANDT ST', 'RECTOR ST',\n",
       "       'WHITEHALL S-FRY', 'DELANCEY/ESSEX', 'BOWERY', 'CHAMBERS ST',\n",
       "       'FULTON ST', 'BROAD ST', '7 AV', 'PARK PLACE', 'BOTANIC GARDEN',\n",
       "       'PROSPECT PARK', 'PARKSIDE AV', 'CHURCH AV', 'BEVERLEY ROAD',\n",
       "       'CORTELYOU RD', 'NEWKIRK PLAZA', 'AVENUE H', 'AVENUE J', 'AVENUE M',\n",
       "       'KINGS HWY', 'AVENUE U', 'NECK RD', 'SHEEPSHEAD BAY',\n",
       "       'BRIGHTON BEACH', 'OCEAN PKWY', 'BOROUGH HALL', 'JAY ST-METROTEC',\n",
       "       'DEKALB AV', 'ATL AV-BARCLAY', 'UNION ST', '4AV-9 ST', '25 ST',\n",
       "       '36 ST', '45 ST', '77 ST', '86 ST', 'BAY RIDGE-95 ST', '8 AV',\n",
       "       'FT HAMILTON PKY', 'NEW UTRECHT AV', '18 AV', '20 AV', 'BAY PKWY',\n",
       "       '9 AV', '50 ST', '55 ST', '71 ST', '79 ST', '25 AV', 'BAY 50 ST',\n",
       "       'CONEY IS-STILLW', 'W 8 ST-AQUARIUM', '6 AV', '3 AV', '1 AV',\n",
       "       'BEDFORD AV', 'LORIMER ST', 'GRAHAM AV', 'GRAND ST', 'MONTROSE AV',\n",
       "       'MORGAN AV', 'JEFFERSON ST', 'MYRTLE-WYCKOFF', 'HALSEY ST',\n",
       "       'WILSON AV', 'BUSHWICK AV', 'ATLANTIC AV', 'SUTTER AV',\n",
       "       'LIVONIA AV', 'NEW LOTS', 'EAST 105 ST', 'CANARSIE-ROCKAW',\n",
       "       'HOWARD BCH JFK', 'JFK JAMAICA CT1', 'MARCY AV', 'HEWES ST',\n",
       "       'FLUSHING AV', 'MYRTLE AV', 'KOSCIUSZKO ST', 'GATES AV',\n",
       "       'CHAUNCEY ST', 'ALABAMA AV', 'VAN SICLEN AV', 'CLEVELAND ST',\n",
       "       'NORWOOD AV', 'CRESCENT ST', 'CYPRESS HILLS', '75 ST-ELDERTS',\n",
       "       '85 ST-FOREST PK', 'WOODHAVEN BLVD', '104 ST', '111 ST', '121 ST',\n",
       "       'CENTRAL AV', 'KNICKERBOCKER', 'SENECA AVE', 'FOREST AVE',\n",
       "       'FRESH POND RD', 'METROPOLITAN AV', 'INWOOD-207 ST', 'DYCKMAN ST',\n",
       "       '190 ST', '181 ST', '175 ST', '168 ST', '163 ST-AMSTERDM', '155 ST',\n",
       "       '145 ST', '135 ST', '125 ST', '116 ST', 'CATHEDRAL PKWY', '103 ST',\n",
       "       '96 ST', '81 ST-MUSEUM', '72 ST', '59 ST COLUMBUS',\n",
       "       '42 ST-PORT AUTH', '34 ST-PENN STA', '14 ST', 'W 4 ST-WASH SQ',\n",
       "       'SPRING ST', 'WORLD TRADE CTR', 'HIGH ST', 'HOYT-SCHER',\n",
       "       'LAFAYETTE AV', 'CLINTON-WASH AV', 'FRANKLIN AV', 'NOSTRAND AV',\n",
       "       'KINGSTON-THROOP', 'UTICA AV', 'RALPH AV', 'ROCKAWAY AV',\n",
       "       'BROADWAY JCT', 'LIBERTY AV', 'VAN SICLEN AVE', 'SHEPHERD AV',\n",
       "       'EUCLID AV', 'GRANT AV', '80 ST', '88 ST', 'ROCKAWAY BLVD',\n",
       "       'OZONE PK LEFFRT', 'AQUEDUCT N.COND', 'AQUEDUCT RACETR',\n",
       "       'BROAD CHANNEL', 'BEACH 90 ST', 'BEACH 98 ST', 'BEACH 105 ST',\n",
       "       'ROCKAWAY PARK B', 'BEACH 67 ST', 'BEACH 60 ST', 'BEACH 44 ST',\n",
       "       'BEACH 36 ST', 'BEACH 25 ST', 'FAR ROCKAWAY', '161/YANKEE STAD',\n",
       "       '167 ST', '170 ST', '174-175 STS', 'TREMONT AV', '182-183 STS',\n",
       "       'FORDHAM RD', 'KINGSBRIDGE RD', 'BEDFORD PK BLVD', 'NORWOOD 205 ST',\n",
       "       '5 AV/53 ST', 'LEXINGTON AV/53', 'COURT SQ-23 ST', 'QUEENS PLAZA',\n",
       "       'STEINWAY ST', '46 ST', 'NORTHERN BLVD', '65 ST', 'JKSN HT-ROOSVLT',\n",
       "       'ELMHURST AV', 'GRAND-NEWTOWN', '63 DR-REGO PARK', '67 AV',\n",
       "       'FOREST HILLS 71', '75 AV', 'KEW GARDENS', 'BRIARWOOD',\n",
       "       'SUTPHIN BLVD', 'PARSONS BLVD', '169 ST', 'JAMAICA 179 ST',\n",
       "       'COURT SQ', '21 ST', 'GREENPOINT AV', 'NASSAU AV', 'BROADWAY',\n",
       "       'MYRTLE-WILLOUGH', 'BEDFORD-NOSTRAN', 'CLASSON AV',\n",
       "       '47-50 STS ROCK', '42 ST-BRYANT PK', \"B'WAY-LAFAYETTE\", '2 AV',\n",
       "       'EAST BROADWAY', 'YORK ST', 'BERGEN ST', 'CARROLL ST', 'SMITH-9 ST',\n",
       "       '4 AV-9 ST', '15 ST-PROSPECT', 'DITMAS AV', 'AVENUE I', 'AVENUE N',\n",
       "       'AVENUE P', 'AVENUE X', 'NEPTUNE AV', '57 ST', 'LEXINGTON AV/63',\n",
       "       'ROOSEVELT ISLND', '21 ST-QNSBRIDGE', 'JAMAICA VAN WK',\n",
       "       'SUTPHIN-ARCHER', 'JAMAICA CENTER', '72 ST-2 AVE', '86 ST-2 AVE',\n",
       "       '96 ST-2 AVE', 'ORCHARD BEACH', 'NEWARK HW BMEBE', 'HARRISON',\n",
       "       'JOURNAL SQUARE', 'GROVE STREET', 'EXCHANGE PLACE',\n",
       "       'PAVONIA/NEWPORT', 'CITY / BUS', 'CHRISTOPHER ST', '9TH STREET',\n",
       "       '14TH STREET', 'TWENTY THIRD ST', 'THIRTY ST', 'LACKAWANNA',\n",
       "       'THIRTY THIRD ST', 'NEWARK BM BW', 'NEWARK C', 'NEWARK HM HE',\n",
       "       'PATH WTC 2', 'PATH NEW WTC', 'SOUTH FERRY', 'WALL ST',\n",
       "       'FRANKLIN ST', 'HOUSTON ST', '18 ST', '66 ST-LINCOLN',\n",
       "       '116 ST-COLUMBIA', '137 ST CITY COL', '157 ST', '191 ST', '207 ST',\n",
       "       '215 ST', 'MARBLE HILL-225', '231 ST', '238 ST', 'V.CORTLANDT PK',\n",
       "       'BOWLING GREEN', 'BROOKLYN BRIDGE', 'BLEECKER ST', 'ASTOR PL',\n",
       "       '33 ST', 'GRD CNTRL-42 ST', '51 ST', '68ST-HUNTER CO', '110 ST',\n",
       "       '138/GRAND CONC', '149/GRAND CONC', 'MT EDEN AV', '176 ST',\n",
       "       'BURNSIDE AV', '183 ST', 'MOSHOLU PKWY', 'WOODLAWN',\n",
       "       'CENTRAL PK N110', 'HARLEM 148 ST', '3 AV-149 ST', 'JACKSON AV',\n",
       "       'PROSPECT AV', 'INTERVALE AV', 'SIMPSON ST', 'FREEMAN ST', '174 ST',\n",
       "       'WEST FARMS SQ', 'E 180 ST', 'BRONX PARK EAST', 'PELHAM PKWY',\n",
       "       'ALLERTON AV', 'BURKE AV', 'GUN HILL RD', '219 ST', '225 ST',\n",
       "       '233 ST', 'NEREID AV', 'WAKEFIELD/241', '3 AV 138 ST', 'BROOK AV',\n",
       "       'CYPRESS AV', \"E 143/ST MARY'S\", 'E 149 ST', 'LONGWOOD AV',\n",
       "       'HUNTS POINT AV', 'WHITLOCK AV', 'ELDER AV', 'MORISN AV/SNDVW',\n",
       "       'ST LAWRENCE AV', 'PARKCHESTER', 'CASTLE HILL AV', 'ZEREGA AV',\n",
       "       'WESTCHESTER SQ', 'MIDDLETOWN RD', 'BUHRE AV', 'PELHAM BAY PARK',\n",
       "       '5 AVE', 'VERNON-JACKSON', 'HUNTERS PT AV', 'QUEENSBORO PLZ',\n",
       "       '39 AV', '36 AV', '30 AV', 'ASTORIA BLVD', 'ASTORIA DITMARS',\n",
       "       '33 ST-RAWSON ST', '40 ST LOWERY ST', '46 ST BLISS ST', '52 ST',\n",
       "       '61 ST WOODSIDE', '69 ST', '74 ST-BROADWAY', '82 ST-JACKSON H',\n",
       "       '90 ST-ELMHURST', 'JUNCTION BLVD', '103 ST-CORONA',\n",
       "       'METS-WILLETS PT', 'FLUSHING-MAIN', '34 ST-HUDSON YD', 'CLARK ST',\n",
       "       'HOYT ST', 'NEVINS ST', 'GRAND ARMY PLAZ', 'EASTN PKWY-MUSM',\n",
       "       'KINGSTON AV', 'CROWN HTS-UTICA', 'SUTTER AV-RUTLD', 'SARATOGA AV',\n",
       "       'JUNIUS ST', 'PENNSYLVANIA AV', 'NEW LOTS AV', 'PRESIDENT ST',\n",
       "       'STERLING ST', 'WINTHROP ST', 'BEVERLY RD', 'NEWKIRK AV',\n",
       "       'FLATBUSH AV-B.C', 'MORRIS PARK', 'BAYCHESTER AV',\n",
       "       'EASTCHSTER/DYRE', 'ST. GEORGE', 'TOMPKINSVILLE', 'RIT-MANHATTAN',\n",
       "       'RIT-ROOSEVELT'], dtype=object)"
      ]
     },
     "execution_count": 21,
     "metadata": {},
     "output_type": "execute_result"
    }
   ],
   "source": [
    "nyc_turnstile_2017.station.unique()"
   ]
  },
  {
   "cell_type": "code",
   "execution_count": null,
   "metadata": {
    "collapsed": true
   },
   "outputs": [],
   "source": []
  },
  {
   "cell_type": "code",
   "execution_count": 22,
   "metadata": {
    "collapsed": true,
    "scrolled": true
   },
   "outputs": [],
   "source": [
    "# plot one sample timeseries\n",
    "single_station = nyc_turnstile_2017[nyc_turnstile_2017.station == '59 ST']"
   ]
  },
  {
   "cell_type": "code",
   "execution_count": 23,
   "metadata": {
    "scrolled": true
   },
   "outputs": [
    {
     "ename": "KeyError",
     "evalue": "'dtime'",
     "output_type": "error",
     "traceback": [
      "\u001b[0;31m---------------------------------------------------------------------------\u001b[0m",
      "\u001b[0;31mKeyError\u001b[0m                                  Traceback (most recent call last)",
      "\u001b[0;32m/anaconda/lib/python3.6/site-packages/pandas/core/indexes/base.py\u001b[0m in \u001b[0;36mget_loc\u001b[0;34m(self, key, method, tolerance)\u001b[0m\n\u001b[1;32m   2441\u001b[0m             \u001b[0;32mtry\u001b[0m\u001b[0;34m:\u001b[0m\u001b[0;34m\u001b[0m\u001b[0m\n\u001b[0;32m-> 2442\u001b[0;31m                 \u001b[0;32mreturn\u001b[0m \u001b[0mself\u001b[0m\u001b[0;34m.\u001b[0m\u001b[0m_engine\u001b[0m\u001b[0;34m.\u001b[0m\u001b[0mget_loc\u001b[0m\u001b[0;34m(\u001b[0m\u001b[0mkey\u001b[0m\u001b[0;34m)\u001b[0m\u001b[0;34m\u001b[0m\u001b[0m\n\u001b[0m\u001b[1;32m   2443\u001b[0m             \u001b[0;32mexcept\u001b[0m \u001b[0mKeyError\u001b[0m\u001b[0;34m:\u001b[0m\u001b[0;34m\u001b[0m\u001b[0m\n",
      "\u001b[0;32mpandas/_libs/index.pyx\u001b[0m in \u001b[0;36mpandas._libs.index.IndexEngine.get_loc (pandas/_libs/index.c:5280)\u001b[0;34m()\u001b[0m\n",
      "\u001b[0;32mpandas/_libs/index.pyx\u001b[0m in \u001b[0;36mpandas._libs.index.IndexEngine.get_loc (pandas/_libs/index.c:5126)\u001b[0;34m()\u001b[0m\n",
      "\u001b[0;32mpandas/_libs/hashtable_class_helper.pxi\u001b[0m in \u001b[0;36mpandas._libs.hashtable.PyObjectHashTable.get_item (pandas/_libs/hashtable.c:20523)\u001b[0;34m()\u001b[0m\n",
      "\u001b[0;32mpandas/_libs/hashtable_class_helper.pxi\u001b[0m in \u001b[0;36mpandas._libs.hashtable.PyObjectHashTable.get_item (pandas/_libs/hashtable.c:20477)\u001b[0;34m()\u001b[0m\n",
      "\u001b[0;31mKeyError\u001b[0m: 'dtime'",
      "\nDuring handling of the above exception, another exception occurred:\n",
      "\u001b[0;31mKeyError\u001b[0m                                  Traceback (most recent call last)",
      "\u001b[0;32m<ipython-input-23-bcbe43c49da6>\u001b[0m in \u001b[0;36m<module>\u001b[0;34m()\u001b[0m\n\u001b[0;32m----> 1\u001b[0;31m \u001b[0mplt\u001b[0m\u001b[0;34m.\u001b[0m\u001b[0mplot\u001b[0m\u001b[0;34m(\u001b[0m\u001b[0msingle_station\u001b[0m\u001b[0;34m[\u001b[0m\u001b[0;34m'dtime'\u001b[0m\u001b[0;34m]\u001b[0m\u001b[0;34m,\u001b[0m\u001b[0msingle_station\u001b[0m\u001b[0;34m[\u001b[0m\u001b[0;34m'entries_diff'\u001b[0m\u001b[0;34m]\u001b[0m\u001b[0;34m,\u001b[0m\u001b[0mmarker\u001b[0m \u001b[0;34m=\u001b[0m \u001b[0;34m'o'\u001b[0m\u001b[0;34m,\u001b[0m\u001b[0mlinestyle\u001b[0m\u001b[0;34m=\u001b[0m\u001b[0;34m'None'\u001b[0m\u001b[0;34m)\u001b[0m\u001b[0;34m\u001b[0m\u001b[0m\n\u001b[0m",
      "\u001b[0;32m/anaconda/lib/python3.6/site-packages/pandas/core/frame.py\u001b[0m in \u001b[0;36m__getitem__\u001b[0;34m(self, key)\u001b[0m\n\u001b[1;32m   1962\u001b[0m             \u001b[0;32mreturn\u001b[0m \u001b[0mself\u001b[0m\u001b[0;34m.\u001b[0m\u001b[0m_getitem_multilevel\u001b[0m\u001b[0;34m(\u001b[0m\u001b[0mkey\u001b[0m\u001b[0;34m)\u001b[0m\u001b[0;34m\u001b[0m\u001b[0m\n\u001b[1;32m   1963\u001b[0m         \u001b[0;32melse\u001b[0m\u001b[0;34m:\u001b[0m\u001b[0;34m\u001b[0m\u001b[0m\n\u001b[0;32m-> 1964\u001b[0;31m             \u001b[0;32mreturn\u001b[0m \u001b[0mself\u001b[0m\u001b[0;34m.\u001b[0m\u001b[0m_getitem_column\u001b[0m\u001b[0;34m(\u001b[0m\u001b[0mkey\u001b[0m\u001b[0;34m)\u001b[0m\u001b[0;34m\u001b[0m\u001b[0m\n\u001b[0m\u001b[1;32m   1965\u001b[0m \u001b[0;34m\u001b[0m\u001b[0m\n\u001b[1;32m   1966\u001b[0m     \u001b[0;32mdef\u001b[0m \u001b[0m_getitem_column\u001b[0m\u001b[0;34m(\u001b[0m\u001b[0mself\u001b[0m\u001b[0;34m,\u001b[0m \u001b[0mkey\u001b[0m\u001b[0;34m)\u001b[0m\u001b[0;34m:\u001b[0m\u001b[0;34m\u001b[0m\u001b[0m\n",
      "\u001b[0;32m/anaconda/lib/python3.6/site-packages/pandas/core/frame.py\u001b[0m in \u001b[0;36m_getitem_column\u001b[0;34m(self, key)\u001b[0m\n\u001b[1;32m   1969\u001b[0m         \u001b[0;31m# get column\u001b[0m\u001b[0;34m\u001b[0m\u001b[0;34m\u001b[0m\u001b[0m\n\u001b[1;32m   1970\u001b[0m         \u001b[0;32mif\u001b[0m \u001b[0mself\u001b[0m\u001b[0;34m.\u001b[0m\u001b[0mcolumns\u001b[0m\u001b[0;34m.\u001b[0m\u001b[0mis_unique\u001b[0m\u001b[0;34m:\u001b[0m\u001b[0;34m\u001b[0m\u001b[0m\n\u001b[0;32m-> 1971\u001b[0;31m             \u001b[0;32mreturn\u001b[0m \u001b[0mself\u001b[0m\u001b[0;34m.\u001b[0m\u001b[0m_get_item_cache\u001b[0m\u001b[0;34m(\u001b[0m\u001b[0mkey\u001b[0m\u001b[0;34m)\u001b[0m\u001b[0;34m\u001b[0m\u001b[0m\n\u001b[0m\u001b[1;32m   1972\u001b[0m \u001b[0;34m\u001b[0m\u001b[0m\n\u001b[1;32m   1973\u001b[0m         \u001b[0;31m# duplicate columns & possible reduce dimensionality\u001b[0m\u001b[0;34m\u001b[0m\u001b[0;34m\u001b[0m\u001b[0m\n",
      "\u001b[0;32m/anaconda/lib/python3.6/site-packages/pandas/core/generic.py\u001b[0m in \u001b[0;36m_get_item_cache\u001b[0;34m(self, item)\u001b[0m\n\u001b[1;32m   1643\u001b[0m         \u001b[0mres\u001b[0m \u001b[0;34m=\u001b[0m \u001b[0mcache\u001b[0m\u001b[0;34m.\u001b[0m\u001b[0mget\u001b[0m\u001b[0;34m(\u001b[0m\u001b[0mitem\u001b[0m\u001b[0;34m)\u001b[0m\u001b[0;34m\u001b[0m\u001b[0m\n\u001b[1;32m   1644\u001b[0m         \u001b[0;32mif\u001b[0m \u001b[0mres\u001b[0m \u001b[0;32mis\u001b[0m \u001b[0;32mNone\u001b[0m\u001b[0;34m:\u001b[0m\u001b[0;34m\u001b[0m\u001b[0m\n\u001b[0;32m-> 1645\u001b[0;31m             \u001b[0mvalues\u001b[0m \u001b[0;34m=\u001b[0m \u001b[0mself\u001b[0m\u001b[0;34m.\u001b[0m\u001b[0m_data\u001b[0m\u001b[0;34m.\u001b[0m\u001b[0mget\u001b[0m\u001b[0;34m(\u001b[0m\u001b[0mitem\u001b[0m\u001b[0;34m)\u001b[0m\u001b[0;34m\u001b[0m\u001b[0m\n\u001b[0m\u001b[1;32m   1646\u001b[0m             \u001b[0mres\u001b[0m \u001b[0;34m=\u001b[0m \u001b[0mself\u001b[0m\u001b[0;34m.\u001b[0m\u001b[0m_box_item_values\u001b[0m\u001b[0;34m(\u001b[0m\u001b[0mitem\u001b[0m\u001b[0;34m,\u001b[0m \u001b[0mvalues\u001b[0m\u001b[0;34m)\u001b[0m\u001b[0;34m\u001b[0m\u001b[0m\n\u001b[1;32m   1647\u001b[0m             \u001b[0mcache\u001b[0m\u001b[0;34m[\u001b[0m\u001b[0mitem\u001b[0m\u001b[0;34m]\u001b[0m \u001b[0;34m=\u001b[0m \u001b[0mres\u001b[0m\u001b[0;34m\u001b[0m\u001b[0m\n",
      "\u001b[0;32m/anaconda/lib/python3.6/site-packages/pandas/core/internals.py\u001b[0m in \u001b[0;36mget\u001b[0;34m(self, item, fastpath)\u001b[0m\n\u001b[1;32m   3588\u001b[0m \u001b[0;34m\u001b[0m\u001b[0m\n\u001b[1;32m   3589\u001b[0m             \u001b[0;32mif\u001b[0m \u001b[0;32mnot\u001b[0m \u001b[0misnull\u001b[0m\u001b[0;34m(\u001b[0m\u001b[0mitem\u001b[0m\u001b[0;34m)\u001b[0m\u001b[0;34m:\u001b[0m\u001b[0;34m\u001b[0m\u001b[0m\n\u001b[0;32m-> 3590\u001b[0;31m                 \u001b[0mloc\u001b[0m \u001b[0;34m=\u001b[0m \u001b[0mself\u001b[0m\u001b[0;34m.\u001b[0m\u001b[0mitems\u001b[0m\u001b[0;34m.\u001b[0m\u001b[0mget_loc\u001b[0m\u001b[0;34m(\u001b[0m\u001b[0mitem\u001b[0m\u001b[0;34m)\u001b[0m\u001b[0;34m\u001b[0m\u001b[0m\n\u001b[0m\u001b[1;32m   3591\u001b[0m             \u001b[0;32melse\u001b[0m\u001b[0;34m:\u001b[0m\u001b[0;34m\u001b[0m\u001b[0m\n\u001b[1;32m   3592\u001b[0m                 \u001b[0mindexer\u001b[0m \u001b[0;34m=\u001b[0m \u001b[0mnp\u001b[0m\u001b[0;34m.\u001b[0m\u001b[0marange\u001b[0m\u001b[0;34m(\u001b[0m\u001b[0mlen\u001b[0m\u001b[0;34m(\u001b[0m\u001b[0mself\u001b[0m\u001b[0;34m.\u001b[0m\u001b[0mitems\u001b[0m\u001b[0;34m)\u001b[0m\u001b[0;34m)\u001b[0m\u001b[0;34m[\u001b[0m\u001b[0misnull\u001b[0m\u001b[0;34m(\u001b[0m\u001b[0mself\u001b[0m\u001b[0;34m.\u001b[0m\u001b[0mitems\u001b[0m\u001b[0;34m)\u001b[0m\u001b[0;34m]\u001b[0m\u001b[0;34m\u001b[0m\u001b[0m\n",
      "\u001b[0;32m/anaconda/lib/python3.6/site-packages/pandas/core/indexes/base.py\u001b[0m in \u001b[0;36mget_loc\u001b[0;34m(self, key, method, tolerance)\u001b[0m\n\u001b[1;32m   2442\u001b[0m                 \u001b[0;32mreturn\u001b[0m \u001b[0mself\u001b[0m\u001b[0;34m.\u001b[0m\u001b[0m_engine\u001b[0m\u001b[0;34m.\u001b[0m\u001b[0mget_loc\u001b[0m\u001b[0;34m(\u001b[0m\u001b[0mkey\u001b[0m\u001b[0;34m)\u001b[0m\u001b[0;34m\u001b[0m\u001b[0m\n\u001b[1;32m   2443\u001b[0m             \u001b[0;32mexcept\u001b[0m \u001b[0mKeyError\u001b[0m\u001b[0;34m:\u001b[0m\u001b[0;34m\u001b[0m\u001b[0m\n\u001b[0;32m-> 2444\u001b[0;31m                 \u001b[0;32mreturn\u001b[0m \u001b[0mself\u001b[0m\u001b[0;34m.\u001b[0m\u001b[0m_engine\u001b[0m\u001b[0;34m.\u001b[0m\u001b[0mget_loc\u001b[0m\u001b[0;34m(\u001b[0m\u001b[0mself\u001b[0m\u001b[0;34m.\u001b[0m\u001b[0m_maybe_cast_indexer\u001b[0m\u001b[0;34m(\u001b[0m\u001b[0mkey\u001b[0m\u001b[0;34m)\u001b[0m\u001b[0;34m)\u001b[0m\u001b[0;34m\u001b[0m\u001b[0m\n\u001b[0m\u001b[1;32m   2445\u001b[0m \u001b[0;34m\u001b[0m\u001b[0m\n\u001b[1;32m   2446\u001b[0m         \u001b[0mindexer\u001b[0m \u001b[0;34m=\u001b[0m \u001b[0mself\u001b[0m\u001b[0;34m.\u001b[0m\u001b[0mget_indexer\u001b[0m\u001b[0;34m(\u001b[0m\u001b[0;34m[\u001b[0m\u001b[0mkey\u001b[0m\u001b[0;34m]\u001b[0m\u001b[0;34m,\u001b[0m \u001b[0mmethod\u001b[0m\u001b[0;34m=\u001b[0m\u001b[0mmethod\u001b[0m\u001b[0;34m,\u001b[0m \u001b[0mtolerance\u001b[0m\u001b[0;34m=\u001b[0m\u001b[0mtolerance\u001b[0m\u001b[0;34m)\u001b[0m\u001b[0;34m\u001b[0m\u001b[0m\n",
      "\u001b[0;32mpandas/_libs/index.pyx\u001b[0m in \u001b[0;36mpandas._libs.index.IndexEngine.get_loc (pandas/_libs/index.c:5280)\u001b[0;34m()\u001b[0m\n",
      "\u001b[0;32mpandas/_libs/index.pyx\u001b[0m in \u001b[0;36mpandas._libs.index.IndexEngine.get_loc (pandas/_libs/index.c:5126)\u001b[0;34m()\u001b[0m\n",
      "\u001b[0;32mpandas/_libs/hashtable_class_helper.pxi\u001b[0m in \u001b[0;36mpandas._libs.hashtable.PyObjectHashTable.get_item (pandas/_libs/hashtable.c:20523)\u001b[0;34m()\u001b[0m\n",
      "\u001b[0;32mpandas/_libs/hashtable_class_helper.pxi\u001b[0m in \u001b[0;36mpandas._libs.hashtable.PyObjectHashTable.get_item (pandas/_libs/hashtable.c:20477)\u001b[0;34m()\u001b[0m\n",
      "\u001b[0;31mKeyError\u001b[0m: 'dtime'"
     ]
    }
   ],
   "source": [
    "plt.plot(single_station['dtime'],single_station['entries_diff'],marker = 'o',linestyle='None')"
   ]
  },
  {
   "cell_type": "code",
   "execution_count": null,
   "metadata": {},
   "outputs": [],
   "source": [
    "nyc_turnstile_2017"
   ]
  },
  {
   "cell_type": "code",
   "execution_count": null,
   "metadata": {},
   "outputs": [],
   "source": [
    "ls turnstile_data/"
   ]
  },
  {
   "cell_type": "code",
   "execution_count": null,
   "metadata": {
    "collapsed": true
   },
   "outputs": [],
   "source": []
  },
  {
   "cell_type": "code",
   "execution_count": null,
   "metadata": {
    "collapsed": true
   },
   "outputs": [],
   "source": []
  }
 ],
 "metadata": {
  "kernelspec": {
   "display_name": "Python 3",
   "language": "python",
   "name": "python3"
  },
  "language_info": {
   "codemirror_mode": {
    "name": "ipython",
    "version": 3
   },
   "file_extension": ".py",
   "mimetype": "text/x-python",
   "name": "python",
   "nbconvert_exporter": "python",
   "pygments_lexer": "ipython3",
   "version": "3.6.1"
  }
 },
 "nbformat": 4,
 "nbformat_minor": 2
}
